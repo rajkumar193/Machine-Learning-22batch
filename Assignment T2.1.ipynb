{
 "cells": [
  {
   "cell_type": "code",
   "execution_count": 1,
   "metadata": {},
   "outputs": [
    {
     "name": "stdout",
     "output_type": "stream",
     "text": [
      "Enter the length of side A: 4\n",
      "Enter the length of side B: 6\n",
      "Enter thre legth of side C: 9\n",
      "Area of triangle is:  9.5\n"
     ]
    }
   ],
   "source": [
    "#Task 2: \n",
    " \n",
    " \n",
    "#1.1  \n",
    " \n",
    "#Write a Python Program(with class concepts) to find the area of the triangle using the below formula. \n",
    " \n",
    "#area = (s*(s-a)*(s-b)*(s-c)) ** 0.5 \n",
    " \n",
    "#Function to take the length of the sides of triangle from user should be defined in the parent \n",
    "#class and function to calculate the area should be defined in subclass.\n",
    "\n",
    "class Triangle:\n",
    "    def __init__(self, a, b, c):\n",
    "        self.a = a\n",
    "        self.b = b\n",
    "        self.c = c\n",
    "    def area(self):\n",
    "        return ((self.a + self.b + self.c) / 2)\n",
    "a = float(input(\"Enter the length of side A: \"))\n",
    "b = float(input(\"Enter the length of side B: \"))\n",
    "c = float(input(\"Enter thre legth of side C: \"))\n",
    "variable = Triangle(a, b, c)\n",
    "print(\"Area of triangle is: \", variable.area())"
   ]
  },
  {
   "cell_type": "code",
   "execution_count": null,
   "metadata": {},
   "outputs": [],
   "source": []
  }
 ],
 "metadata": {
  "kernelspec": {
   "display_name": "Python 3",
   "language": "python",
   "name": "python3"
  },
  "language_info": {
   "codemirror_mode": {
    "name": "ipython",
    "version": 3
   },
   "file_extension": ".py",
   "mimetype": "text/x-python",
   "name": "python",
   "nbconvert_exporter": "python",
   "pygments_lexer": "ipython3",
   "version": "3.7.3"
  }
 },
 "nbformat": 4,
 "nbformat_minor": 2
}
