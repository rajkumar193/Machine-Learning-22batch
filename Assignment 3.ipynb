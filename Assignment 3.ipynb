{
 "cells": [
  {
   "cell_type": "code",
   "execution_count": 4,
   "metadata": {},
   "outputs": [
    {
     "name": "stdout",
     "output_type": "stream",
     "text": [
      "sorry your code is having error!!\n",
      "finally your code is executed\n"
     ]
    }
   ],
   "source": [
    "#Task 1: \n",
    " \n",
    "#1. \n",
    " \n",
    "#Write a function to compute 5/0 and use try/except to catch the exceptions.\n",
    "def divide(x, y):\n",
    "    try:\n",
    "        result = x/y\n",
    "        print(\"your answer is: \",result)\n",
    "    except ZeroDivisionError:\n",
    "        print(\"sorry your code is having error!!\")\n",
    "    finally:\n",
    "        print(\"finally your code is executed\")\n",
    "divide(5, 0) "
   ]
  },
  {
   "cell_type": "code",
   "execution_count": 5,
   "metadata": {},
   "outputs": [
    {
     "name": "stdout",
     "output_type": "stream",
     "text": [
      "Americans play Baseball\n",
      "Americans play Cricket\n",
      "Americans watch Baseball\n",
      "Americans watch Cricket\n",
      "Indians play Baseball\n",
      "Indians play Cricket\n",
      "Indians watch Baseball\n",
      "Indians watch Cricket\n"
     ]
    }
   ],
   "source": [
    "#2. \n",
    " \n",
    "#Implement a Python program to generate all sentences where subject is in [\"Americans\", \"Indians\"] and verb is in [\"Play\", \n",
    "#\"watch\"] and the object is in [\"Baseball\",\"cricket\"]. \n",
    " \n",
    "#Hint: Subject,Verb and Object should be declared in the program as shown below. \n",
    " \n",
    "#subjects=[\"Americans \",\"Indians\"] verbs=[\"play\",\"watch\"] objects=[\"Baseball\",\"Cricket\"] \n",
    " \n",
    "#Output should come as below: \n",
    " \n",
    "#Americans  play Baseball. Americans  play Cricket. Americans  watch Baseball. Americans  watch Cricket. Indians play Baseball.\n",
    "#Indians play Cricket. Indians watch Baseball. Indians watch Cricket\n",
    "\n",
    "subjects = [\"Americans\", \"Indians\"]\n",
    "verbs = [\"play\", \"watch\"]\n",
    "objects = [\"Baseball\", \"Cricket\"]\n",
    "\n",
    "for x in subjects:\n",
    "    for y in verbs:\n",
    "        for z in objects:\n",
    "            print(x, y, z)\n"
   ]
  },
  {
   "cell_type": "code",
   "execution_count": 6,
   "metadata": {},
   "outputs": [
    {
     "data": {
      "text/plain": [
       "array([[  1,   1,   1,   1],\n",
       "       [  1,   2,   4,   8],\n",
       "       [  1,   3,   9,  27],\n",
       "       [  1,   6,  36, 216]])"
      ]
     },
     "execution_count": 6,
     "metadata": {},
     "output_type": "execute_result"
    }
   ],
   "source": [
    "#Task 2:  \n",
    " \n",
    "#1.  \n",
    " \n",
    "#Write a function so that the columns of the output matrix are powers of the input vector.  \n",
    "#The order of the powers is determined by the increasing boolean argument. Specifically, when increasing is False, \n",
    "#the i-th output column is the input vector raised element-wise to the power                of N - i - 1.  \n",
    " \n",
    "#HINT: Such a matrix with a geometric progression in each row is named for Alexandre Theophile Vandermonde\n",
    "\n",
    "import numpy as np\n",
    "x = np.array([1, 2, 3, 6])\n",
    "np.vander(x)\n",
    "np.vander(x, increasing = True)\n",
    "\n"
   ]
  },
  {
   "cell_type": "code",
   "execution_count": null,
   "metadata": {},
   "outputs": [],
   "source": []
  },
  {
   "cell_type": "code",
   "execution_count": null,
   "metadata": {},
   "outputs": [],
   "source": []
  }
 ],
 "metadata": {
  "kernelspec": {
   "display_name": "Python 3",
   "language": "python",
   "name": "python3"
  },
  "language_info": {
   "codemirror_mode": {
    "name": "ipython",
    "version": 3
   },
   "file_extension": ".py",
   "mimetype": "text/x-python",
   "name": "python",
   "nbconvert_exporter": "python",
   "pygments_lexer": "ipython3",
   "version": "3.7.3"
  }
 },
 "nbformat": 4,
 "nbformat_minor": 2
}
